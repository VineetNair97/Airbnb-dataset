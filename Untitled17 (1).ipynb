{
 "cells": [
  {
   "cell_type": "code",
   "execution_count": null,
   "metadata": {},
   "outputs": [],
   "source": [
    "import numpy as np\n",
    "import pandas as pd\n",
    "import matplotlib.pyplot as plt\n",
    "import matplotlib.image as mpimg\n",
    "%matplotlib inline\n",
    "import seaborn as sns\n",
    "import plotly.express as px\n",
    "import plotly.graph_objects as go\n",
    "\n",
    "\n"
   ]
  },
  {
   "cell_type": "code",
   "execution_count": null,
   "metadata": {},
   "outputs": [],
   "source": [
    "df = pd.read_csv('C:/Users/vineet nair/Desktop/Airbnb dataset.csv')\n",
    "df.head()"
   ]
  },
  {
   "cell_type": "code",
   "execution_count": null,
   "metadata": {},
   "outputs": [],
   "source": [
    "df.shape"
   ]
  },
  {
   "cell_type": "code",
   "execution_count": null,
   "metadata": {},
   "outputs": [],
   "source": [
    "df.isnull().sum()"
   ]
  },
  {
   "cell_type": "code",
   "execution_count": null,
   "metadata": {},
   "outputs": [],
   "source": [
    "df.info()"
   ]
  },
  {
   "cell_type": "code",
   "execution_count": null,
   "metadata": {},
   "outputs": [],
   "source": [
    "df= df.drop(df[(df['minimum_nights']>365)].index)\n",
    "df= df.drop(df[(df['number_of_reviews']>700)].index)\n",
    "df= df.drop(df[(df['calculated_host_listings_count']>150)].index)\n",
    "df= df.drop(df[(df['price']>1500)].index)\n",
    "df= df.drop(df[(df['price']<1)].index)\n",
    "df.describe()"
   ]
  },
  {
   "cell_type": "code",
   "execution_count": null,
   "metadata": {},
   "outputs": [],
   "source": [
    "neighbour_group_df =df.pivot_table('price', ['neighbourhood_group'], aggfunc='mean').reset_index()\n",
    "\n",
    "fig = px.bar(neighbour_group_df, y='neighbourhood_group', x='price',\n",
    "             hover_data=['price'], color='price',  barmode ='relative',\n",
    "             labels={'pop':'Neighbourhood group and their pricing'}, height=400, width=800,orientation='h')\n",
    "\n",
    "fig.show()"
   ]
  },
  {
   "cell_type": "code",
   "execution_count": null,
   "metadata": {},
   "outputs": [],
   "source": [
    "roomdf = df.groupby('room_type').size()/df['room_type'].count()*100\n",
    "labels = roomdf.index\n",
    "values = roomdf.values\n",
    "\n",
    "# Use `hole` to create a donut-like pie chart\n",
    "fig = go.Figure(data=[go.Pie(labels=labels, values=values, hole=.3)])\n",
    "fig.show()\n"
   ]
  },
  {
   "cell_type": "code",
   "execution_count": null,
   "metadata": {},
   "outputs": [],
   "source": [
    "neighbour_df =df.pivot_table(['price', 'calculated_host_listings_count'] , ['neighbourhood'], aggfunc='mean').reset_index()\n",
    "fig = px.scatter(neighbour_df, x=\"neighbourhood\", y=\"price\", color=\"calculated_host_listings_count\",\n",
    "                 size='price', height=500, width=800)\n",
    "fig.update_layout(showlegend = False)\n",
    "fig.show()"
   ]
  },
  {
   "cell_type": "code",
   "execution_count": null,
   "metadata": {},
   "outputs": [],
   "source": [
    "airbnb_200 = df.nlargest(200,'price')\n",
    "fig = px.scatter(airbnb_200, x=\"host_name\", y=\"reviews_per_month\", color=\"price\", size = 'calculated_host_listings_count', height=500, width=800)\n",
    "fig.update_layout(showlegend = False)\n",
    "fig.show()"
   ]
  },
  {
   "cell_type": "code",
   "execution_count": null,
   "metadata": {},
   "outputs": [],
   "source": [
    "neighbour_group_df =df.pivot_table('host_id', ['calculated_host_listings_count'], aggfunc='mean').reset_index()\n",
    "\n",
    "fig = px.bar(neighbour_group_df, y='calculated_host_listings_count', x='host_id',\n",
    "             hover_data=['calculated_host_listings_count'], color='calculated_host_listings_count',  barmode ='relative',\n",
    "             labels={'host_ID':'Count'}, height=400, width=800,orientation='h')\n",
    "\n",
    "fig.show()"
   ]
  },
  {
   "cell_type": "code",
   "execution_count": null,
   "metadata": {
    "scrolled": true
   },
   "outputs": [],
   "source": [
    "\n",
    "fig = px.violin(df, y=\"price\", x=\"neighbourhood_group\", color=\"price\", box=True, points=\"all\",\n",
    "          hover_data=df.columns)\n",
    "fig.show()"
   ]
  },
  {
   "cell_type": "code",
   "execution_count": null,
   "metadata": {},
   "outputs": [],
   "source": [
    "ig = px.scatter_mapbox(df, lat=\"latitude\", lon=\"longitude\", hover_name=\"neighbourhood\", hover_data=[\"neighbourhood\", \"neighbourhood_group\"],\n",
    "                        color_discrete_sequence=[\"fuchsia\"], zoom=3, height=300)\n",
    "ig.update_layout(mapbox_style=\"open-street-map\")\n",
    "ig.update_layout(margin={\"r\":0,\"t\":0,\"l\":0,\"b\":0})\n",
    "ig.show()"
   ]
  },
  {
   "cell_type": "code",
   "execution_count": null,
   "metadata": {},
   "outputs": [],
   "source": []
  },
  {
   "cell_type": "code",
   "execution_count": null,
   "metadata": {},
   "outputs": [],
   "source": []
  }
 ],
 "metadata": {
  "kernelspec": {
   "display_name": "Python 3",
   "language": "python",
   "name": "python3"
  },
  "language_info": {
   "codemirror_mode": {
    "name": "ipython",
    "version": 3
   },
   "file_extension": ".py",
   "mimetype": "text/x-python",
   "name": "python",
   "nbconvert_exporter": "python",
   "pygments_lexer": "ipython3",
   "version": "3.7.3"
  }
 },
 "nbformat": 4,
 "nbformat_minor": 2
}
